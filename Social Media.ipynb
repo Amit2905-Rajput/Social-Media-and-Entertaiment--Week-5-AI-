{
 "cells": [
  {
   "cell_type": "code",
   "execution_count": 3,
   "id": "33e0aaaa-c544-486b-840b-ca6677e4f37b",
   "metadata": {},
   "outputs": [],
   "source": [
    "file_path = r\"C:\\Users\\AMIT RAJPUT\\Downloads\\archive (4)\\social_media_entertainment_data.csv\""
   ]
  },
  {
   "cell_type": "code",
   "execution_count": 5,
   "id": "bbefb3be-edb7-4cf4-b522-ab44e883b8bc",
   "metadata": {},
   "outputs": [],
   "source": [
    "with open(file_path, \"r\", encoding=\"utf-8\") as file:\n",
    "    data = file.readlines()"
   ]
  },
  {
   "cell_type": "code",
   "execution_count": 7,
   "id": "12b33487-9492-439f-8cf1-4ba38d3f0498",
   "metadata": {},
   "outputs": [
    {
     "name": "stdout",
     "output_type": "stream",
     "text": [
      "User ID,Age,Gender,Country,Daily Social Media Time (hrs),Daily Entertainment Time (hrs),Social Media Platforms Used,Primary Platform,Daily Messaging Time (hrs),Daily Video Content Time (hrs),Daily Gaming Time (hrs),Occupation,Marital Status,Monthly Income (USD),Device Type,Internet Speed (Mbps),Subscription Platforms,Average Sleep Time (hrs),Physical Activity Time (hrs),Reading Time (hrs),Work/Study Time (hrs),Screen Time (hrs),Notifications Received Daily,Daily Music Listening Time (hrs),Preferred Content Type,Primary Social Media Goal,Preferred Entertainment Platform,Time Spent in Online Communities (hrs),Social Media Fatigue Level (scale 1-10),News Consumption Time (hrs),Ad Interaction Count,Time on Educational Platforms (hrs),Parental Status,Tech Savviness Level (scale 1-10),Preferred Device for Entertainment,Data Plan Used,Digital Well-being Awareness,Sleep Quality (scale 1-10),Social Isolation Feeling (scale 1-10),Monthly Expenditure on Entertainment (USD)\n",
      "\n",
      "1,32,Other,Germany,4.35,4.08,5,TikTok,0.35,5.43,4.68,Student,Widowed,1838.33,PC,83.45,1,6.44,0.59,2.15,2.01,7.33,71,5.31,Series,Education,Netflix,3.12,2,2.82,20,4.11,Yes,9,Tablet,50GB,Moderate,7,8,33.04\n",
      "\n",
      "2,62,Other,India,4.96,4.21,2,YouTube,2.55,4.22,0.41,Professional,Widowed,8352.0,PC,28.28,1,4.7,1.31,3.17,2.87,4.23,192,1.76,News,Networking,Netflix,1.36,5,0.32,26,4.59,Yes,9,PC,10GB,Low,8,2,497.78\n",
      "\n",
      "3,51,Female,USA,6.78,1.77,4,Facebook,2.09,1.09,4.38,Student,Divorced,3698.74,Smartphone,89.81,5,4.78,1.8,2.13,3.91,4.45,116,2.1,Series,Entertainment,Spotify,1.97,3,1.25,47,0.66,Yes,9,Tablet,10GB,High,5,3,71.72\n",
      "\n",
      "4,44,Female,India,5.06,9.21,3,YouTube,3.69,4.8,4.82,Retired,Widowed,9328.14,PC,38.69,5,8.68,2.3,2.14,1.9,11.49,153,4.16,Short Videos,Education,Spotify,3.47,1,2.65,22,3.44,Yes,7,Tablet,10GB,Low,9,9,129.62\n",
      "\n"
     ]
    }
   ],
   "source": [
    "for i in range(5):\n",
    "    print(data[i])"
   ]
  },
  {
   "cell_type": "code",
   "execution_count": 14,
   "id": "82b7420a-29d7-4a83-9239-40602472d82e",
   "metadata": {},
   "outputs": [
    {
     "name": "stdout",
     "output_type": "stream",
     "text": [
      "First row (column headers): ['User ID', 'Age', 'Gender', 'Country', 'Daily Social Media Time (hrs)', 'Daily Entertainment Time (hrs)', 'Social Media Platforms Used', 'Primary Platform', 'Daily Messaging Time (hrs)', 'Daily Video Content Time (hrs)', 'Daily Gaming Time (hrs)', 'Occupation', 'Marital Status', 'Monthly Income (USD)', 'Device Type', 'Internet Speed (Mbps)', 'Subscription Platforms', 'Average Sleep Time (hrs)', 'Physical Activity Time (hrs)', 'Reading Time (hrs)', 'Work/Study Time (hrs)', 'Screen Time (hrs)', 'Notifications Received Daily', 'Daily Music Listening Time (hrs)', 'Preferred Content Type', 'Primary Social Media Goal', 'Preferred Entertainment Platform', 'Time Spent in Online Communities (hrs)', 'Social Media Fatigue Level (scale 1-10)', 'News Consumption Time (hrs)', 'Ad Interaction Count', 'Time on Educational Platforms (hrs)', 'Parental Status', 'Tech Savviness Level (scale 1-10)', 'Preferred Device for Entertainment', 'Data Plan Used', 'Digital Well-being Awareness', 'Sleep Quality (scale 1-10)', 'Social Isolation Feeling (scale 1-10)', 'Monthly Expenditure on Entertainment (USD)']\n",
      "User ID,Age,Gender,Country,Daily Social Media Time (hrs),Daily Entertainment Time (hrs),Social Media Platforms Used,Primary Platform,Daily Messaging Time (hrs),Daily Video Content Time (hrs),Daily Gaming Time (hrs),Occupation,Marital Status,Monthly Income (USD),Device Type,Internet Speed (Mbps),Subscription Platforms,Average Sleep Time (hrs),Physical Activity Time (hrs),Reading Time (hrs),Work/Study Time (hrs),Screen Time (hrs),Notifications Received Daily,Daily Music Listening Time (hrs),Preferred Content Type,Primary Social Media Goal,Preferred Entertainment Platform,Time Spent in Online Communities (hrs),Social Media Fatigue Level (scale 1-10),News Consumption Time (hrs),Ad Interaction Count,Time on Educational Platforms (hrs),Parental Status,Tech Savviness Level (scale 1-10),Preferred Device for Entertainment,Data Plan Used,Digital Well-being Awareness,Sleep Quality (scale 1-10),Social Isolation Feeling (scale 1-10),Monthly Expenditure on Entertainment (USD)\n",
      "1,32,Other,Germany,4.35,4.08,5,TikTok,0.35,5.43,4.68,Student,Widowed,1838.33,PC,83.45,1,6.44,0.59,2.15,2.01,7.33,71,5.31,Series,Education,Netflix,3.12,2,2.82,20,4.11,Yes,9,Tablet,50GB,Moderate,7,8,33.04\n",
      "2,62,Other,India,4.96,4.21,2,YouTube,2.55,4.22,0.41,Professional,Widowed,8352.0,PC,28.28,1,4.7,1.31,3.17,2.87,4.23,192,1.76,News,Networking,Netflix,1.36,5,0.32,26,4.59,Yes,9,PC,10GB,Low,8,2,497.78\n",
      "3,51,Female,USA,6.78,1.77,4,Facebook,2.09,1.09,4.38,Student,Divorced,3698.74,Smartphone,89.81,5,4.78,1.8,2.13,3.91,4.45,116,2.1,Series,Entertainment,Spotify,1.97,3,1.25,47,0.66,Yes,9,Tablet,10GB,High,5,3,71.72\n",
      "4,44,Female,India,5.06,9.21,3,YouTube,3.69,4.8,4.82,Retired,Widowed,9328.14,PC,38.69,5,8.68,2.3,2.14,1.9,11.49,153,4.16,Short Videos,Education,Spotify,3.47,1,2.65,22,3.44,Yes,7,Tablet,10GB,Low,9,9,129.62\n"
     ]
    }
   ],
   "source": [
    "# Print the first row (header) to check column names\n",
    "print(\"First row (column headers):\", columns)\n",
    "\n",
    "# Inspect the first few rows to determine the text column\n",
    "for i in range(5):\n",
    "    print(data[i].strip())\n"
   ]
  },
  {
   "cell_type": "code",
   "execution_count": 16,
   "id": "188f5af0-3f11-40d8-a94a-e71d1f98cefb",
   "metadata": {},
   "outputs": [],
   "source": [
    "# Update this after inspecting the output\n",
    "text_column = \"text_column_name\"  # Replace with actual column name from your dataset\n"
   ]
  },
  {
   "cell_type": "code",
   "execution_count": 20,
   "id": "bdf92c5f-f302-4c3a-b04f-c3efd3dd59bd",
   "metadata": {},
   "outputs": [
    {
     "name": "stdout",
     "output_type": "stream",
     "text": [
      "Column headers in dataset: ['User ID', 'Age', 'Gender', 'Country', 'Daily Social Media Time (hrs)', 'Daily Entertainment Time (hrs)', 'Social Media Platforms Used', 'Primary Platform', 'Daily Messaging Time (hrs)', 'Daily Video Content Time (hrs)', 'Daily Gaming Time (hrs)', 'Occupation', 'Marital Status', 'Monthly Income (USD)', 'Device Type', 'Internet Speed (Mbps)', 'Subscription Platforms', 'Average Sleep Time (hrs)', 'Physical Activity Time (hrs)', 'Reading Time (hrs)', 'Work/Study Time (hrs)', 'Screen Time (hrs)', 'Notifications Received Daily', 'Daily Music Listening Time (hrs)', 'Preferred Content Type', 'Primary Social Media Goal', 'Preferred Entertainment Platform', 'Time Spent in Online Communities (hrs)', 'Social Media Fatigue Level (scale 1-10)', 'News Consumption Time (hrs)', 'Ad Interaction Count', 'Time on Educational Platforms (hrs)', 'Parental Status', 'Tech Savviness Level (scale 1-10)', 'Preferred Device for Entertainment', 'Data Plan Used', 'Digital Well-being Awareness', 'Sleep Quality (scale 1-10)', 'Social Isolation Feeling (scale 1-10)', 'Monthly Expenditure on Entertainment (USD)']\n"
     ]
    }
   ],
   "source": [
    "# Print the column headers from the dataset\n",
    "print(\"Column headers in dataset:\", columns)\n"
   ]
  },
  {
   "cell_type": "code",
   "execution_count": 22,
   "id": "f665726d-2211-43ab-b6b5-5b4ce4aecc61",
   "metadata": {},
   "outputs": [],
   "source": [
    "# Set the correct text column name based on dataset headers\n",
    "text_column = \"actual_column_name_here\"  # Replace with the actual column name\n"
   ]
  },
  {
   "cell_type": "code",
   "execution_count": 24,
   "id": "326f93ad-5c92-4945-921f-d6e24b8d5af3",
   "metadata": {},
   "outputs": [],
   "source": [
    "text_column = \"content\"\n"
   ]
  },
  {
   "cell_type": "code",
   "execution_count": 28,
   "id": "1d1f029b-fd64-46c1-9bce-7355ee88a8ce",
   "metadata": {},
   "outputs": [],
   "source": [
    "# Choose a column with text (update based on dataset insights)\n",
    "text_column = \"Preferred Content Type\"  # Change this if another column makes more sense\n"
   ]
  },
  {
   "cell_type": "code",
   "execution_count": 30,
   "id": "f59801b8-5077-4ec5-8adc-98372dcfa8b2",
   "metadata": {},
   "outputs": [
    {
     "name": "stdout",
     "output_type": "stream",
     "text": [
      "series\n",
      "news\n",
      "series\n",
      "short videos\n",
      "series\n"
     ]
    }
   ],
   "source": [
    "# Ensure the selected column exists in the dataset\n",
    "if text_column in columns:\n",
    "    text_index = columns.index(text_column)  # Find the index of the text column\n",
    "else:\n",
    "    raise ValueError(f\"Column '{text_column}' not found in dataset. Available columns: {columns}\")\n",
    "\n",
    "# Preprocess the text data\n",
    "cleaned_texts = []\n",
    "\n",
    "for line in data[1:]:  # Skip header row\n",
    "    words = line.strip().split(\",\")  # Split by comma\n",
    "    if len(words) > text_index:  # Ensure column exists in this row\n",
    "        text = words[text_index].lower()  # Convert to lowercase\n",
    "        text = \"\".join(c for c in text if c.isalnum() or c.isspace())  # Remove punctuation\n",
    "        text = \" \".join(text.split())  # Remove extra spaces\n",
    "        cleaned_texts.append(text)\n",
    "\n",
    "# Display first few cleaned texts\n",
    "for i in range(5):\n",
    "    print(cleaned_texts[i])\n"
   ]
  },
  {
   "cell_type": "code",
   "execution_count": 32,
   "id": "c71f07bd-4446-4b76-84f8-af901688630a",
   "metadata": {},
   "outputs": [
    {
     "name": "stdout",
     "output_type": "stream",
     "text": [
      "\n",
      "Top 10 Most Common Words:\n",
      "movies: 75217\n",
      "short: 75200\n",
      "videos: 75200\n",
      "news: 75124\n",
      "series: 74459\n"
     ]
    }
   ],
   "source": [
    "# Count word frequencies manually\n",
    "word_counts = {}\n",
    "\n",
    "for text in cleaned_texts:\n",
    "    words = text.split()\n",
    "    for word in words:\n",
    "        if word in word_counts:\n",
    "            word_counts[word] += 1\n",
    "        else:\n",
    "            word_counts[word] = 1\n",
    "\n",
    "# Sort and get the top 10 words\n",
    "top_words = sorted(word_counts.items(), key=lambda x: x[1], reverse=True)[:10]\n",
    "\n",
    "# Print results\n",
    "print(\"\\nTop 10 Most Common Words:\")\n",
    "for word, count in top_words:\n",
    "    print(f\"{word}: {count}\")\n"
   ]
  },
  {
   "cell_type": "code",
   "execution_count": 34,
   "id": "a035ba58-c3a3-440f-a5f9-2d0063695150",
   "metadata": {},
   "outputs": [
    {
     "name": "stdout",
     "output_type": "stream",
     "text": [
      "\n",
      "Top 10 Most Common Bigrams:\n",
      "short videos: 75200\n"
     ]
    }
   ],
   "source": [
    "# Count bigram frequencies manually\n",
    "bigram_counts = {}\n",
    "\n",
    "for text in cleaned_texts:\n",
    "    words = text.split()\n",
    "    for i in range(len(words) - 1):\n",
    "        bigram = words[i] + \" \" + words[i+1]\n",
    "        if bigram in bigram_counts:\n",
    "            bigram_counts[bigram] += 1\n",
    "        else:\n",
    "            bigram_counts[bigram] = 1\n",
    "\n",
    "# Sort and get the top 10 bigrams\n",
    "top_bigrams = sorted(bigram_counts.items(), key=lambda x: x[1], reverse=True)[:10]\n",
    "\n",
    "# Print results\n",
    "print(\"\\nTop 10 Most Common Bigrams:\")\n",
    "for bigram, count in top_bigrams:\n",
    "    print(f\"{bigram}: {count}\")\n"
   ]
  },
  {
   "cell_type": "code",
   "execution_count": 36,
   "id": "b68fa9a7-b5c4-4ae2-8eef-b7a5c0a9bd2c",
   "metadata": {},
   "outputs": [
    {
     "name": "stdout",
     "output_type": "stream",
     "text": [
      "\n",
      "Sentiment Distribution:\n",
      "series: 74459\n",
      "news: 75124\n",
      "short videos: 75200\n",
      "movies: 75217\n"
     ]
    }
   ],
   "source": [
    "# Manually count sentiment occurrences (Update sentiment_column if needed)\n",
    "sentiment_counts = {}\n",
    "\n",
    "for line in data[1:]:  # Skip header row\n",
    "    words = line.strip().split(\",\")\n",
    "    if len(words) > text_index:  # Ensure column exists\n",
    "        sentiment = words[text_index].strip().lower()\n",
    "        if sentiment in sentiment_counts:\n",
    "            sentiment_counts[sentiment] += 1\n",
    "        else:\n",
    "            sentiment_counts[sentiment] = 1\n",
    "\n",
    "# Print sentiment distribution\n",
    "print(\"\\nSentiment Distribution:\")\n",
    "for sentiment, count in sentiment_counts.items():\n",
    "    print(f\"{sentiment}: {count}\")\n"
   ]
  },
  {
   "cell_type": "code",
   "execution_count": 38,
   "id": "e537e448-75d7-41c2-b270-74a5ee27fe88",
   "metadata": {},
   "outputs": [
    {
     "name": "stdout",
     "output_type": "stream",
     "text": [
      "\n",
      "Word Frequency Distribution:\n",
      "movies: ############### (75217)\n",
      "short: ############### (75200)\n",
      "videos: ############### (75200)\n",
      "news: ############### (75124)\n",
      "series: ############## (74459)\n"
     ]
    }
   ],
   "source": [
    "# Print bar chart for top 10 words\n",
    "print(\"\\nWord Frequency Distribution:\")\n",
    "\n",
    "for word, count in top_words:\n",
    "    print(f\"{word}: {'#' * (count // 5000)} ({count})\")  # Adjust scaling as needed\n"
   ]
  },
  {
   "cell_type": "code",
   "execution_count": 40,
   "id": "79143242-ab5c-4da6-b380-ddd7f96424a2",
   "metadata": {},
   "outputs": [
    {
     "name": "stdout",
     "output_type": "stream",
     "text": [
      "\n",
      "Sentiment Distribution:\n",
      "series: ########################################################################## (74459)\n",
      "news: ########################################################################### (75124)\n",
      "short videos: ########################################################################### (75200)\n",
      "movies: ########################################################################### (75217)\n"
     ]
    }
   ],
   "source": [
    "# Print sentiment distribution bar chart\n",
    "print(\"\\nSentiment Distribution:\")\n",
    "\n",
    "for sentiment, count in sentiment_counts.items():\n",
    "    print(f\"{sentiment}: {'#' * (count // 1000)} ({count})\")  # Adjust scaling as needed\n"
   ]
  },
  {
   "cell_type": "code",
   "execution_count": 42,
   "id": "d2f808ea-4369-4dda-90e3-f41b593b9703",
   "metadata": {},
   "outputs": [
    {
     "name": "stdout",
     "output_type": "stream",
     "text": [
      "\n",
      "Bag of Words feature matrix saved as 'bag_of_words_features.txt'\n"
     ]
    }
   ],
   "source": [
    "# Convert text to BoW format\n",
    "vocab = list(word_counts.keys())  # Vocabulary list\n",
    "bow_features = []\n",
    "\n",
    "for text in cleaned_texts:\n",
    "    bow_vector = [text.split().count(word) for word in vocab]  # Word frequency\n",
    "    bow_features.append(bow_vector)\n",
    "\n",
    "# Save BoW features as a text file\n",
    "with open(\"bag_of_words_features.txt\", \"w\", encoding=\"utf-8\") as file:\n",
    "    for vector in bow_features:\n",
    "        file.write(\",\".join(map(str, vector)) + \"\\n\")\n",
    "\n",
    "print(\"\\nBag of Words feature matrix saved as 'bag_of_words_features.txt'\")\n"
   ]
  },
  {
   "cell_type": "code",
   "execution_count": 44,
   "id": "1c8b2c45-152f-4be0-b0aa-c96c3b55b73f",
   "metadata": {},
   "outputs": [
    {
     "name": "stdout",
     "output_type": "stream",
     "text": [
      "\n",
      "TF-IDF feature matrix saved as 'tfidf_features.txt'\n"
     ]
    }
   ],
   "source": [
    "# Compute TF manually (simplified TF-IDF)\n",
    "tf_features = []\n",
    "\n",
    "for text in cleaned_texts:\n",
    "    words = text.split()\n",
    "    text_length = len(words)\n",
    "    tf_vector = [words.count(word) / text_length if text_length > 0 else 0 for word in vocab]\n",
    "    tf_features.append(tf_vector)\n",
    "\n",
    "# Save TF-IDF feature matrix\n",
    "with open(\"tfidf_features.txt\", \"w\", encoding=\"utf-8\") as file:\n",
    "    for vector in tf_features:\n",
    "        file.write(\",\".join(map(str, vector)) + \"\\n\")\n",
    "\n",
    "print(\"\\nTF-IDF feature matrix saved as 'tfidf_features.txt'\")\n"
   ]
  },
  {
   "cell_type": "code",
   "execution_count": 46,
   "id": "7cb9ed9a-b44f-44df-9f6f-8506c301fcb2",
   "metadata": {},
   "outputs": [
    {
     "data": {
      "image/png": "[encoded data removed]",
      "text/plain": [
       "<Figure size 1000x500 with 1 Axes>"
      ]
     },
     "metadata": {},
     "output_type": "display_data"
    }
   ],
   "source": [
    "import matplotlib.pyplot as plt\n",
    "\n",
    "# Extract words and their counts for visualization\n",
    "words, counts = zip(*top_words)\n",
    "\n",
    "# Plot word frequency bar chart\n",
    "plt.figure(figsize=(10,5))\n",
    "plt.bar(words, counts)\n",
    "plt.xlabel(\"Words\")\n",
    "plt.ylabel(\"Frequency\")\n",
    "plt.title(\"Top 10 Most Common Words\")\n",
    "plt.xticks(rotation=45)\n",
    "plt.show()\n"
   ]
  },
  {
   "cell_type": "code",
   "execution_count": 48,
   "id": "0b5855ce-5556-49c2-83f7-1d73bd3566f5",
   "metadata": {},
   "outputs": [
    {
     "data": {
      "image/png": "[encoded data removed]",
      "text/plain": [
       "<Figure size 1000x500 with 1 Axes>"
      ]
     },
     "metadata": {},
     "output_type": "display_data"
    }
   ],
   "source": [
    "# Extract bigrams and their counts\n",
    "bigrams, counts = zip(*top_bigrams)\n",
    "\n",
    "# Plot bigram frequency bar chart\n",
    "plt.figure(figsize=(10,5))\n",
    "plt.barh(bigrams, counts)\n",
    "plt.xlabel(\"Frequency\")\n",
    "plt.ylabel(\"Bigrams\")\n",
    "plt.title(\"Top 10 Most Common Bigrams\")\n",
    "plt.gca().invert_yaxis()\n",
    "plt.show()\n"
   ]
  },
  {
   "cell_type": "code",
   "execution_count": 50,
   "id": "52516f6f-8b54-45aa-a9b2-9dcc441c3e9b",
   "metadata": {},
   "outputs": [
    {
     "data": {
      "image/png": "[encoded data removed]",
      "text/plain": [
       "<Figure size 700x500 with 1 Axes>"
      ]
     },
     "metadata": {},
     "output_type": "display_data"
    }
   ],
   "source": [
    "# Extract sentiment labels and counts\n",
    "labels, counts = zip(*sentiment_counts.items())\n",
    "\n",
    "# Plot sentiment distribution\n",
    "plt.figure(figsize=(7,5))\n",
    "plt.bar(labels, counts, color=['blue', 'red', 'green', 'orange'])\n",
    "plt.xlabel(\"Sentiment\")\n",
    "plt.ylabel(\"Count\")\n",
    "plt.title(\"Sentiment Distribution\")\n",
    "plt.xticks(rotation=45)\n",
    "plt.show()\n"
   ]
  },
  {
   "cell_type": "code",
   "execution_count": null,
   "id": "10678567-8077-46f3-8d95-2989070d0970",
   "metadata": {},
   "outputs": [],
   "source": []
  }
 ],
 "metadata": {
  "kernelspec": {
   "display_name": "Python 3 (ipykernel)",
   "language": "python",
   "name": "python3"
  },
  "language_info": {
   "codemirror_mode": {
    "name": "ipython",
    "version": 3
   },
   "file_extension": ".py",
   "mimetype": "text/x-python",
   "name": "python",
   "nbconvert_exporter": "python",
   "pygments_lexer": "ipython3",
   "version": "3.12.7"
  }
 },
 "nbformat": 4,
 "nbformat_minor": 5
}
